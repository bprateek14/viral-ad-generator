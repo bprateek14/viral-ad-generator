{
 "cells": [
  {
   "cell_type": "markdown",
   "id": "cf4f96a2",
   "metadata": {},
   "source": [
    "# Viral Ad Generator Pipeline\n",
    "\n",
    "This notebook demonstrates the full workflow for generating viral video ads from trending tweets using LLMs and Veo-3 video generation.\n",
    "\n",
    "## Steps\n",
    "1. Import required classes and libraries\n",
    "2. Fetch and classify viral tweets\n",
    "3. Generate multi-scene video scripts\n",
    "4. Produce and stitch videos"
   ]
  },
  {
   "cell_type": "code",
   "execution_count": null,
   "id": "22990b26",
   "metadata": {},
   "outputs": [],
   "source": [
    "import os\n",
    "import sys\n",
    "import pandas as pd\n",
    "\n",
    "sys.path.append(os.path.abspath(os.path.join(os.getcwd(), \"..\")))\n",
    "\n",
    "# Import pipeline classes\n",
    "from src.fetch_and_classify import TweetFetcherClassifier\n",
    "from src.generate_prompts import PromptGenerator\n",
    "from src.generate_video import VideoGenerator"
   ]
  },
  {
   "cell_type": "markdown",
   "id": "27ce169d",
   "metadata": {},
   "source": [
    "## Fetch and Classify Tweets\n",
    "\n",
    "Use the `TweetFetcherClassifier` to collect viral tweets and classify them for meaningful content."
   ]
  },
  {
   "cell_type": "code",
   "execution_count": null,
   "id": "cf44b5fd",
   "metadata": {},
   "outputs": [],
   "source": [
    "# Step 2: Fetch and classify tweets\n",
    "# fetcher = TweetFetcherClassifier()\n",
    "# df_classified = fetcher.run(query='#Veo3 OR \"Veo 3\" OR \"viral Veo3 ads\" OR \"#veo3prompt\"')\n",
    "# df_classified.head()\n",
    "\n",
    "df_classified = pd.read_csv(\"../data/viral_tweets_classified.csv\")"
   ]
  },
  {
   "cell_type": "markdown",
   "id": "5d3028dd",
   "metadata": {},
   "source": [
    "## Generate Video Scripts\n",
    "\n",
    "Use the `PromptGenerator` to convert classified tweets into multi-scene video scripts."
   ]
  },
  {
   "cell_type": "code",
   "execution_count": null,
   "id": "f1d8b602",
   "metadata": {},
   "outputs": [],
   "source": [
    "# Step 3: Generate prompts/scripts\n",
    "prompter = PromptGenerator()\n",
    "df_scripts = prompter.run()"
   ]
  },
  {
   "cell_type": "markdown",
   "id": "a5632a0b",
   "metadata": {},
   "source": [
    "## Generate and Stitch Videos\n",
    "\n",
    "Use the `VideoGenerator` to produce videos for each scene and stitch them into a final ad."
   ]
  },
  {
   "cell_type": "code",
   "execution_count": null,
   "id": "44a052f8",
   "metadata": {},
   "outputs": [],
   "source": [
    "# Step 4: Generate videos\n",
    "video_gen = VideoGenerator()\n",
    "df_videos = video_gen.run()"
   ]
  },
  {
   "cell_type": "markdown",
   "id": "1a910d78",
   "metadata": {},
   "source": [
    "## Results and Outputs\n",
    "\n",
    "- Classified tweets: `data/viral_tweets_classified.csv`\n",
    "- Scripts: `data/viral_tweets_with_scripts.csv`\n",
    "- Videos: `videos/`\n",
    "- Frames: `frames/`\n",
    "- Stitched videos: `stitched_videos/`\n",
    "\n",
    "You can explore the generated outputs in the respective folders."
   ]
  }
 ],
 "metadata": {
  "kernelspec": {
   "display_name": "viral-ad-generator (3.11.12)",
   "language": "python",
   "name": "python3"
  },
  "language_info": {
   "codemirror_mode": {
    "name": "ipython",
    "version": 3
   },
   "file_extension": ".py",
   "mimetype": "text/x-python",
   "name": "python",
   "nbconvert_exporter": "python",
   "pygments_lexer": "ipython3",
   "version": "3.11.12"
  }
 },
 "nbformat": 4,
 "nbformat_minor": 5
}
